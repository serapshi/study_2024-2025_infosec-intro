{
  "nbformat": 4,
  "nbformat_minor": 0,
  "metadata": {
    "colab": {
      "provenance": []
    },
    "kernelspec": {
      "name": "python3",
      "display_name": "Python 3"
    },
    "language_info": {
      "name": "python"
    }
  },
  "cells": [
    {
      "cell_type": "code",
      "source": [
        "import string\n",
        "import random as rand"
      ],
      "metadata": {
        "id": "D44qz3jju7GE"
      },
      "execution_count": 19,
      "outputs": []
    },
    {
      "cell_type": "code",
      "execution_count": 20,
      "metadata": {
        "id": "h0L9TV92sZ9m"
      },
      "outputs": [],
      "source": [
        "def get_key(text_len):\n",
        "  return ''.join(rand.choice(string.ascii_letters + string.digits) for _ in range(text_len))"
      ]
    },
    {
      "cell_type": "code",
      "source": [
        "def xor_crypt(text, key):\n",
        "  res = []\n",
        "  len_key = len(key)\n",
        "  for i, ch in enumerate(text):\n",
        "    res.append(chr(ord(ch) ^ ord(key[i%len_key])))\n",
        "  return ''.join(res)"
      ],
      "metadata": {
        "id": "rMz_h4s4vOtZ"
      },
      "execution_count": 21,
      "outputs": []
    },
    {
      "cell_type": "code",
      "source": [
        "def find_key(message, open):\n",
        "  poss_key = []\n",
        "  max_depth = len(message) - len(open) + 1\n",
        "  for i in range(max_depth):\n",
        "    var = []\n",
        "    for j in range(len(open)):\n",
        "      var.append(chr(ord(message[i+j])^ord(open[j])))\n",
        "    poss_key.append(''.join(var))\n",
        "  return poss_key\n"
      ],
      "metadata": {
        "id": "N_h-G_SuwBi2"
      },
      "execution_count": 22,
      "outputs": []
    },
    {
      "cell_type": "code",
      "source": [
        "text = 'С новым годом!'\n",
        "key = get_key(len(text))\n",
        "key"
      ],
      "metadata": {
        "colab": {
          "base_uri": "https://localhost:8080/",
          "height": 35
        },
        "id": "08IPkeN0xHDe",
        "outputId": "c005ebd1-e077-4d9b-9d44-5833a63d966e"
      },
      "execution_count": 23,
      "outputs": [
        {
          "output_type": "execute_result",
          "data": {
            "text/plain": [
              "'9QxaJvvN15sjj2'"
            ],
            "application/vnd.google.colaboratory.intrinsic+json": {
              "type": "string"
            }
          },
          "metadata": {},
          "execution_count": 23
        }
      ]
    },
    {
      "cell_type": "code",
      "source": [
        "encrypted = xor_crypt(text, key)\n",
        "encrypted"
      ],
      "metadata": {
        "colab": {
          "base_uri": "https://localhost:8080/",
          "height": 35
        },
        "id": "n4Ri0dR8yQzW",
        "outputId": "6cacebcc-8595-42e7-f3f3-8e123e4fa0e9"
      },
      "execution_count": 24,
      "outputs": [
        {
          "output_type": "execute_result",
          "data": {
            "text/plain": [
              "'ИqхџѸнъnЂЋчєі\\x13'"
            ],
            "application/vnd.google.colaboratory.intrinsic+json": {
              "type": "string"
            }
          },
          "metadata": {},
          "execution_count": 24
        }
      ]
    },
    {
      "cell_type": "code",
      "source": [
        "xor_crypt(encrypted,  key)"
      ],
      "metadata": {
        "colab": {
          "base_uri": "https://localhost:8080/",
          "height": 35
        },
        "id": "yjyfOTRuz0F9",
        "outputId": "9bdab0e3-065a-4b93-b60e-8b4c0c83734b"
      },
      "execution_count": 25,
      "outputs": [
        {
          "output_type": "execute_result",
          "data": {
            "text/plain": [
              "'С новым годом!'"
            ],
            "application/vnd.google.colaboratory.intrinsic+json": {
              "type": "string"
            }
          },
          "metadata": {},
          "execution_count": 25
        }
      ]
    },
    {
      "cell_type": "code",
      "source": [
        "open = 'С новым'\n",
        "pos_key = find_key(encrypted, open)\n",
        "pos_key"
      ],
      "metadata": {
        "colab": {
          "base_uri": "https://localhost:8080/"
        },
        "id": "yfQyGra5yXHK",
        "outputId": "f7a52808-9d43-4cfa-9a82-863b611edee6"
      },
      "execution_count": 26,
      "outputs": [
        {
          "output_type": "execute_result",
          "data": {
            "text/plain": [
              "['9QxaJvv',\n",
              " 'ѐѥbF\\x0f\\x01ђ',\n",
              " 'dѿE\\x03xХ>',\n",
              " '~ј\\x00tќI7',\n",
              " 'YНwѐ0@{',\n",
              " '\\x1cѪѓ<9\\x0ch',\n",
              " 'kN?5u\\x1fj',\n",
              " 'яТ6yf\\x1dЯ']"
            ]
          },
          "metadata": {},
          "execution_count": 26
        }
      ]
    },
    {
      "cell_type": "code",
      "source": [
        "for key in pos_key:\n",
        "  print(xor_crypt(encrypted, key))"
      ],
      "metadata": {
        "colab": {
          "base_uri": "https://localhost:8080/"
        },
        "id": "TCWB2r_kyqPg",
        "outputId": "38bc45fd-16c7-44a2-e2d7-36a9d942b6b6"
      },
      "execution_count": 27,
      "outputs": [
        {
          "output_type": "stream",
          "name": "stdout",
          "text": [
            "С новымWѓѳЦОРe\n",
            "HДЧЙѷм\u0018оgѩЁћїс\n",
            "ѼЎЀќЀ\u0018Ѵ\n",
            "}юфЬs-\n",
            "ѦЩхЫ$Ѵѽ\u0010ZЋг\bП$\n",
            "сѬв\u000fшѽб7\u001fѼ\u0017ѤЖh\n",
            "ЄЛ\u0016ѣсбТrhXѻѭњ{\n",
            "ѳ?ѺѪЍТР\u0005ьдѲСщy\n",
            "WѓѳЦОРeС новым\n"
          ]
        }
      ]
    },
    {
      "cell_type": "code",
      "source": [],
      "metadata": {
        "id": "qnVIOLKZzAtb"
      },
      "execution_count": 27,
      "outputs": []
    }
  ]
}