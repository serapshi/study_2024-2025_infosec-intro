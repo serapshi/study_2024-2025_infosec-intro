{
  "nbformat": 4,
  "nbformat_minor": 0,
  "metadata": {
    "colab": {
      "provenance": []
    },
    "kernelspec": {
      "name": "python3",
      "display_name": "Python 3"
    },
    "language_info": {
      "name": "python"
    }
  },
  "cells": [
    {
      "cell_type": "code",
      "source": [
        "import string\n",
        "import random as rand"
      ],
      "metadata": {
        "id": "D44qz3jju7GE"
      },
      "execution_count": 19,
      "outputs": []
    },
    {
      "cell_type": "code",
      "execution_count": 20,
      "metadata": {
        "id": "h0L9TV92sZ9m"
      },
      "outputs": [],
      "source": [
        "def get_key(text_len):\n",
        "  return ''.join(rand.choice(string.ascii_letters + string.digits) for _ in range(text_len))"
      ]
    },
    {
      "cell_type": "code",
      "source": [
        "def xor_crypt(text, key):\n",
        "  res = []\n",
        "  len_key = len(key)\n",
        "  for i, ch in enumerate(text):\n",
        "    res.append(chr(ord(ch) ^ ord(key[i%len_key])))\n",
        "  return ''.join(res)"
      ],
      "metadata": {
        "id": "rMz_h4s4vOtZ"
      },
      "execution_count": 21,
      "outputs": []
    },
    {
      "cell_type": "code",
      "source": [
        "def find_key(message, open):\n",
        "  poss_key = []\n",
        "  max_depth = len(message) - len(open) + 1\n",
        "  for i in range(max_depth):\n",
        "    var = []\n",
        "    for j in range(len(open)):\n",
        "      var.append(chr(ord(message[i+j])^ord(open[j])))\n",
        "    poss_key.append(''.join(var))\n",
        "  return poss_key\n"
      ],
      "metadata": {
        "id": "N_h-G_SuwBi2"
      },
      "execution_count": 22,
      "outputs": []
    },
    {
      "cell_type": "code",
      "source": [
        "text1 = 'С новым годом!'\n",
        "text2 = 'С новым годовщинрй товарищи!'\n",
        "key = get_key(len(text))\n",
        "key"
      ],
      "metadata": {
        "colab": {
          "base_uri": "https://localhost:8080/",
          "height": 35
        },
        "id": "08IPkeN0xHDe",
        "outputId": "028aa087-8829-42e0-f1c7-27b3533764c4"
      },
      "execution_count": 41,
      "outputs": [
        {
          "output_type": "execute_result",
          "data": {
            "text/plain": [
              "'sFv39CxMp2tF0s'"
            ],
            "application/vnd.google.colaboratory.intrinsic+json": {
              "type": "string"
            }
          },
          "metadata": {},
          "execution_count": 41
        }
      ]
    },
    {
      "cell_type": "code",
      "source": [
        "encrypted1 = xor_crypt(text1, key)\n",
        "encrypted2 = xor_crypt(text2, key)\n",
        "print(encrypted1, encrypted2)"
      ],
      "metadata": {
        "colab": {
          "base_uri": "https://localhost:8080/"
        },
        "id": "n4Ri0dR8yQzW",
        "outputId": "063963a9-1be7-4c0b-df7d-44f0d079074e"
      },
      "execution_count": 42,
      "outputs": [
        {
          "output_type": "stream",
          "name": "stdout",
          "text": [
            "ђfыЍЋЈфmуЌрѸЌR ђfыЍЋЈфmуЌрѸЂкыѻжЊ\u0019ЁцѿрѲьЏЈR\n"
          ]
        }
      ]
    },
    {
      "cell_type": "code",
      "source": [
        "for enc in [encrypted2, encrypted1]:\n",
        "  print(xor_crypt(enc,  key))"
      ],
      "metadata": {
        "colab": {
          "base_uri": "https://localhost:8080/"
        },
        "id": "yjyfOTRuz0F9",
        "outputId": "de20221d-9120-4f04-db14-1b8ba61d41d8"
      },
      "execution_count": 43,
      "outputs": [
        {
          "output_type": "stream",
          "name": "stdout",
          "text": [
            "С новым годовщинрй товарищи!\n",
            "С новым годом!\n"
          ]
        }
      ]
    },
    {
      "cell_type": "code",
      "source": [
        "open = 'С новым годо'\n",
        "pos_keys = []\n",
        "\n",
        "for enc in [encrypted1, encrypted2]:\n",
        "  pos_keys.append(find_key(enc, open))\n",
        "pos_keys"
      ],
      "metadata": {
        "colab": {
          "base_uri": "https://localhost:8080/"
        },
        "id": "yfQyGra5yXHK",
        "outputId": "a999f9e9-4878-4afe-9bf8-8c542eb28fc8"
      },
      "execution_count": 44,
      "outputs": [
        {
          "output_type": "execute_result",
          "data": {
            "text/plain": [
              "[['sFv39CxMp2tF', 'чѫ05:\\x0fёѣ?~L2', 'jЭ66vЦ\\x7fЬsF8Ѭ'],\n",
              " ['sFv39CxMp2tF',\n",
              "  'чѫ05:\\x0fёѣ?~L<',\n",
              "  'jЭ66vЦ\\x7fЬsF6\\x04',\n",
              "  ',Ы5zџ\\x080ѠK<\\x0eu',\n",
              "  '*ШyѓqG|ј1\\x04\\x7fE',\n",
              "  ')Ѥѐ}>\\x0bDТ\\tuO\\x08',\n",
              "  'eM~2r3>КxE\\x024',\n",
              "  'ьѣ1~JI\\x06ѫH\\x08>Ч',\n",
              "  'bЬ}F0qwћ\\x054Э?',\n",
              "  '-ѠE<\\x08\\x00GЖ9Ч5x',\n",
              "  'aј?\\x04y0\\nЪЪ?rA',\n",
              "  'YТ\\x07uI}692xK~',\n",
              "  '#КvE\\x04AХСuAtL',\n",
              "  '\\x1bѫF\\x088ђ=ѦL~Fr',\n",
              "  'jћ\\x0b4ЫJzџsLx1',\n",
              "  'ZЖ7Ч3\\rCѠAr;6',\n",
              "  '\\x17ЪФ?t4|ђ\\x7f1<Ѭ']]"
            ]
          },
          "metadata": {},
          "execution_count": 44
        }
      ]
    },
    {
      "cell_type": "code",
      "source": [
        "enc1 =[encrypted1, encrypted2]\n",
        "for i in range(2):\n",
        "  for key in pos_keys[i]:\n",
        "    print(xor_crypt(enc1[i], key))"
      ],
      "metadata": {
        "colab": {
          "base_uri": "https://localhost:8080/"
        },
        "id": "TCWB2r_kyqPg",
        "outputId": "3bd6329e-4dca-4767-a0f7-ad9e0ca69ee8"
      },
      "execution_count": 45,
      "outputs": [
        {
          "output_type": "stream",
          "name": "stdout",
          "text": [
            "С новым годоѿ\u0014\n",
            "\u0015ЍѻибЇ\u0015ЎѼѲЌъKй\n",
            "иыѽлѽ.лсаъѸ\u0014Ѧѿ\n",
            "С новым годоѱѼншЏщaьжэддпщѾa\n",
            "\u0015ЍѻибЇ\u0015ЎѼѲЌфEQѻюЌЅшbѹЁЌю\u000bdиg\n",
            "иыѽлѽ.лсаъѶѼѨ\u0017ѽэр,f-ейѶѶЦ\"оd\n",
            "ѾэѾѷTЀѴЍЈаюЍЮ\u0011ѾЁiЂ)aЍуюЇѠ$н(\n",
            "Ѹюв^ѺяиеѲЈпнШ\u0012в(чэeYѷѻпзѦ'ѱЁ\n",
            "ѻЂ\u001bѰеЃЀяъѹЏѰЫ^\u001bІЈЁ]#яЊЏѺѥkX/\n",
            "з+епѹлѺѷлщтьѧѷещфй'\u001bоктцЩтѶ`\n",
            "\u001eЅѺѳсстІЋЄѾ_NYѺЅѼу\u001fjЎѷѾU\u0000lй,\n",
            "аъжылѹгжциmчѠ\u0016жнІѻnZуыmэЮ#ѵ\u0014\n",
            "ѿІЎбЃЈЃѻѺ+ѵЀЯZЎчоЊ^\u0017ѿXѵЊѡoэn\n",
            "гоѴЉѲиючiгвйѣbѴѿяк\u0013+lрвгЭWзV\n",
            "ЋфьѸтѵѲTѱѴЋІћ\u0018ьЎѿѷ/иѴЇЋЌЕ-Џ'\n",
            "ѱѼншЏщaьжэддС новым годоѯ\u0015Ѿ\u0017\n",
            "щЍЍЅгZѹЋЏѲІЊЙQЍѳЎX$gЊЁІЀїdюZ\n",
            "инрй товарищѨaря\u001dрc^егиуЦTЃf\n",
            "ЈѰѼ*иЅЇЍЂѾѻюј,Ѽ\\ЅЇZaЇЍѻфЖ\u0019пѵ\n",
            "хьoвѿмипмнѼ\u0014Е\u0010oфтоeSйюѼ\u001eћ%,m\n"
          ]
        }
      ]
    },
    {
      "cell_type": "code",
      "source": [],
      "metadata": {
        "id": "qnVIOLKZzAtb"
      },
      "execution_count": 27,
      "outputs": []
    }
  ]
}